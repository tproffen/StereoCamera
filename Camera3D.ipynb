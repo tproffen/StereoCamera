{
 "cells": [
  {
   "cell_type": "code",
   "execution_count": 1,
   "metadata": {},
   "outputs": [],
   "source": [
    "import enum\n",
    "import cv2\n",
    "import traitlets\n",
    "import time\n",
    "import ipywidgets.widgets as widgets\n",
    "import numpy as np\n",
    "\n",
    "from camera import Camera, bgr8_to_jpeg"
   ]
  },
  {
   "cell_type": "code",
   "execution_count": 2,
   "metadata": {},
   "outputs": [],
   "source": [
    "# Camera settings *** Needs to match calibration ***\n",
    "\n",
    "captureWidth  = 820\n",
    "captureHeight = 616\n",
    "captureFPS    = 10"
   ]
  },
  {
   "cell_type": "code",
   "execution_count": 3,
   "metadata": {},
   "outputs": [
    {
     "name": "stdout",
     "output_type": "stream",
     "text": [
      "Reading calibration parameters ......\n"
     ]
    }
   ],
   "source": [
    "print(\"Reading calibration parameters ......\")\n",
    "cv_file = cv2.FileStorage(\"data/params_py.xml\", cv2.FILE_STORAGE_READ)\n",
    "\n",
    "Left_Stereo_Map_x = cv_file.getNode(\"Left_Stereo_Map_x\").mat()\n",
    "Left_Stereo_Map_y = cv_file.getNode(\"Left_Stereo_Map_y\").mat()\n",
    "Right_Stereo_Map_x = cv_file.getNode(\"Right_Stereo_Map_x\").mat()\n",
    "Right_Stereo_Map_y = cv_file.getNode(\"Right_Stereo_Map_y\").mat()\n",
    "cv_file.release()"
   ]
  },
  {
   "cell_type": "code",
   "execution_count": 4,
   "metadata": {},
   "outputs": [],
   "source": [
    "cameraL = Camera.instance(id=0, width=captureWidth, height=captureHeight, fps=captureFPS)\n",
    "cameraR = Camera.instance(id=1, width=captureWidth, height=captureHeight, fps=captureFPS)"
   ]
  },
  {
   "cell_type": "code",
   "execution_count": 5,
   "metadata": {},
   "outputs": [],
   "source": [
    "def adjustGamma(image, gamma=1.0):\n",
    "    invGamma = 1.0 / gamma\n",
    "    table = np.array([((i / 255.0) ** invGamma) * 255\n",
    "    for i in np.arange(0, 256)]).astype(\"uint8\")\n",
    "    return cv2.LUT(image, table)\n",
    "\n",
    "\n",
    "    new_image[y,x,c] = np.clip(alpha*image[y,x,c] + beta, 0, 255)"
   ]
  },
  {
   "cell_type": "code",
   "execution_count": 6,
   "metadata": {},
   "outputs": [],
   "source": [
    "def cameraOn(b):   \n",
    "    cameraL.start()\n",
    "    cameraR.start()\n",
    "\n",
    "def cameraOff(b):\n",
    "    cameraL.stop()\n",
    "    cameraR.stop()\n",
    "\n",
    "def snapPhoto(b):\n",
    "    global currentL, currentR, currentAnaglyph\n",
    "    \n",
    "    currentL = cameraL.value\n",
    "    currentR = cameraR.value\n",
    "    dummy=makeAnaglyph(None) \n",
    "    \n",
    "def saveAnaglyph(b):\n",
    "    global currentL, currentR, currentAnaglyph\n",
    "    \n",
    "    timestr = time.strftime(\"%Y%m%d-%H%M%S\")\n",
    "    file=f\"anaglyphs/anaglyph-{timestr}.png\"\n",
    "    cv2.imwrite(file, currentAnaglyph)\n",
    "    label.value=\"Anaglyph saved\""
   ]
  },
  {
   "cell_type": "code",
   "execution_count": 11,
   "metadata": {},
   "outputs": [],
   "source": [
    "def makeAnaglyph(b):\n",
    "    global currentL, currentR, currentAnaglyph\n",
    "    \n",
    "    left = cv2.cvtColor(currentL, cv2.COLOR_BGR2GRAY)\n",
    "    right = cv2.cvtColor(currentR, cv2.COLOR_BGR2GRAY)\n",
    "\n",
    "    left = adjustGamma(left, gamma=gamma.value)\n",
    "    right = adjustGamma(right, gamma=gamma.value)\n",
    "    \n",
    "    left = cv2.remap(left,Left_Stereo_Map_x,Left_Stereo_Map_y, cv2.INTER_LANCZOS4, cv2.BORDER_CONSTANT, 0)\n",
    "    right = cv2.remap(right,Right_Stereo_Map_x,Right_Stereo_Map_y, cv2.INTER_LANCZOS4, cv2.BORDER_CONSTANT, 0)\n",
    "\n",
    "    M = np.float32([[1, 0, shift.value],[0, 1, 0]])\n",
    "    right = cv2.warpAffine(right, M, (right.shape[1], right.shape[0]))\n",
    "    \n",
    "    currentAnaglyph = currentL.copy()\n",
    "    currentAnaglyph[:,:,0] = right[:,:]\n",
    "    currentAnaglyph[:,:,1] = right[:,:]    \n",
    "    currentAnaglyph[:,:,2] = left[:,:]\n",
    "\n",
    "    cropX = 50 + 50   # Second 50 is maximum shift value\n",
    "    cropY = 50\n",
    "    currentAnaglyph = currentAnaglyph[0+cropY:-cropY, 0+cropX:-cropX]\n",
    "    anaglyph.value=bgr8_to_jpeg(currentAnaglyph)"
   ]
  },
  {
   "cell_type": "code",
   "execution_count": 13,
   "metadata": {},
   "outputs": [
    {
     "data": {
      "application/vnd.jupyter.widget-view+json": {
       "model_id": "dc1411d0e3f84a3cb33b73b331b152ef",
       "version_major": 2,
       "version_minor": 0
      },
      "text/plain": [
       "HBox(children=(VBox(children=(Image(value=b'\\xff\\xd8\\xff\\xe0\\x00\\x10JFIF\\x00\\x01\\x01\\x00\\x00\\x01\\x00\\x01\\x00\\x…"
      ]
     },
     "metadata": {},
     "output_type": "display_data"
    }
   ],
   "source": [
    "layout=widgets.Layout(width=\"97%\", margin=\"3px\")\n",
    "\n",
    "anaglyph = widgets.Image(width=820, height=616)\n",
    "snap   = widgets.Button(description=\"Take photo\", layout=layout, button_style='primary')\n",
    "save   = widgets.Button(description=\"Save anaglyph\", layout=layout, button_style='primary')\n",
    "camOn  = widgets.Button(description=\"Camera on\", layout=layout, button_style='success')\n",
    "camOff = widgets.Button(description=\"Camera off\", layout=layout, button_style='danger')\n",
    "shift  = widgets.IntSlider(value=25, min=-50, max=50, step=1, description='shift:', orientation='vertical')\n",
    "gamma  = widgets.FloatSlider(value=1.25, min=0.0, max=2.0, step=0.05, description='gamma:', orientation='vertical')\n",
    "camera = cameraL.widget(width=309, height=231)\n",
    "label  = widgets.Label(value=\"Ready\", layout=layout)\n",
    "\n",
    "sliders = widgets.HBox([gamma, shift])\n",
    "buttons = widgets.VBox([camOn, camOff,snap, save])\n",
    "controls = widgets.VBox([camera, sliders, buttons, label])\n",
    "display(widgets.HBox([controls, anaglyph]))\n",
    "\n",
    "gamma.observe(makeAnaglyph, names='value')\n",
    "shift.observe(makeAnaglyph, names='value')\n",
    "snap.on_click(snapPhoto)\n",
    "save.on_click(saveAnaglyph)\n",
    "camOn.on_click(cameraOn)\n",
    "camOff.on_click(cameraOff)\n",
    "\n",
    "time.sleep(0.5)\n",
    "snapPhoto(None)"
   ]
  },
  {
   "cell_type": "code",
   "execution_count": 14,
   "metadata": {},
   "outputs": [
    {
     "name": "stdout",
     "output_type": "stream",
     "text": [
      "(616, 820, 3)\n"
     ]
    }
   ],
   "source": [
    "print(cameraL.value.shape)"
   ]
  },
  {
   "cell_type": "code",
   "execution_count": null,
   "metadata": {},
   "outputs": [],
   "source": []
  }
 ],
 "metadata": {
  "kernelspec": {
   "display_name": "Python 3",
   "language": "python",
   "name": "python3"
  },
  "language_info": {
   "codemirror_mode": {
    "name": "ipython",
    "version": 3
   },
   "file_extension": ".py",
   "mimetype": "text/x-python",
   "name": "python",
   "nbconvert_exporter": "python",
   "pygments_lexer": "ipython3",
   "version": "3.6.9"
  }
 },
 "nbformat": 4,
 "nbformat_minor": 4
}
