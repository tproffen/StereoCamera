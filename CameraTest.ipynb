{
 "cells": [
  {
   "cell_type": "code",
   "execution_count": 1,
   "metadata": {},
   "outputs": [],
   "source": [
    "import enum\n",
    "import cv2\n",
    "import traitlets\n",
    "import ipywidgets.widgets as widgets\n",
    "import numpy as np\n",
    "\n",
    "from camera import Camera, bgr8_to_jpeg"
   ]
  },
  {
   "cell_type": "code",
   "execution_count": 2,
   "metadata": {},
   "outputs": [
    {
     "name": "stdout",
     "output_type": "stream",
     "text": [
      "Reading calibration parameters ......\n"
     ]
    }
   ],
   "source": [
    "print(\"Reading calibration parameters ......\")\n",
    "cv_file = cv2.FileStorage(\"data/params_py.xml\", cv2.FILE_STORAGE_READ)\n",
    "\n",
    "Left_Stereo_Map_x = cv_file.getNode(\"Left_Stereo_Map_x\").mat()\n",
    "Left_Stereo_Map_y = cv_file.getNode(\"Left_Stereo_Map_y\").mat()\n",
    "Right_Stereo_Map_x = cv_file.getNode(\"Right_Stereo_Map_x\").mat()\n",
    "Right_Stereo_Map_y = cv_file.getNode(\"Right_Stereo_Map_y\").mat()\n",
    "cv_file.release()"
   ]
  },
  {
   "cell_type": "code",
   "execution_count": 40,
   "metadata": {},
   "outputs": [],
   "source": [
    "cameraL = Camera.instance(id=0, width=820, height=616)\n",
    "cameraR = Camera.instance(id=1, width=820, height=616)"
   ]
  },
  {
   "cell_type": "code",
   "execution_count": 41,
   "metadata": {},
   "outputs": [
    {
     "data": {
      "application/vnd.jupyter.widget-view+json": {
       "model_id": "45bbe553fc214656b0eaab63d1bc8c18",
       "version_major": 2,
       "version_minor": 0
      },
      "text/plain": [
       "HBox(children=(Image(value=b'\\xff\\xd8\\xff\\xe0\\x00\\x10JFIF\\x00\\x01\\x01\\x00\\x00\\x01\\x00\\x01\\x00\\x00\\xff\\xdb\\x00C…"
      ]
     },
     "metadata": {},
     "output_type": "display_data"
    }
   ],
   "source": [
    "wL=cameraL.widget(width=410, height=308)\n",
    "wR=cameraR.widget(width=410, height=308)\n",
    "display(widgets.HBox([wL,wR]))"
   ]
  },
  {
   "cell_type": "code",
   "execution_count": 5,
   "metadata": {},
   "outputs": [],
   "source": [
    "def adjustGamma(image, gamma=1.0):\n",
    "    invGamma = 1.0 / gamma\n",
    "    table = np.array([((i / 255.0) ** invGamma) * 255\n",
    "    for i in np.arange(0, 256)]).astype(\"uint8\")\n",
    "    return cv2.LUT(image, table)"
   ]
  },
  {
   "cell_type": "code",
   "execution_count": 37,
   "metadata": {},
   "outputs": [],
   "source": [
    "def snapPhoto(b):\n",
    "    global currentL, currentR\n",
    "    \n",
    "    currentL = cameraL.value\n",
    "    currentR = cameraR.value\n",
    "    dummy=makeAnaglyph(None) \n",
    "    \n",
    "def makeAnaglyph(b):\n",
    "    left = cv2.cvtColor(currentL, cv2.COLOR_BGR2GRAY)\n",
    "    right = cv2.cvtColor(currentR, cv2.COLOR_BGR2GRAY)\n",
    "\n",
    "    left = adjustGamma(left, gamma=gamma.value)\n",
    "    right = adjustGamma(right, gamma=gamma.value)\n",
    "    \n",
    "    left = cv2.remap(left,Left_Stereo_Map_x,Left_Stereo_Map_y, cv2.INTER_LANCZOS4, cv2.BORDER_CONSTANT, 0)\n",
    "    right = cv2.remap(right,Right_Stereo_Map_x,Right_Stereo_Map_y, cv2.INTER_LANCZOS4, cv2.BORDER_CONSTANT, 0)\n",
    "\n",
    "    M = np.float32([[1, 0, shift.value],[0, 1, 0]])\n",
    "    right = cv2.warpAffine(right, M, (right.shape[1], right.shape[0]))\n",
    "    \n",
    "    out = currentL.copy()\n",
    "    out[:,:,0] = right[:,:]\n",
    "    out[:,:,1] = right[:,:]    \n",
    "    out[:,:,2] = left[:,:]\n",
    "\n",
    "    cropX = 50 + abs(shift.value)\n",
    "    cropY = 50\n",
    "    out = out[0+cropY:616-cropY, 0+cropX:820-cropX]\n",
    "    anaglyph.value=bgr8_to_jpeg(out)\n",
    "    cv2.imwrite('anaglyph.png', out) "
   ]
  },
  {
   "cell_type": "code",
   "execution_count": 38,
   "metadata": {},
   "outputs": [
    {
     "data": {
      "application/vnd.jupyter.widget-view+json": {
       "model_id": "c1d7b235c9ff4393bf8246e8c9294e88",
       "version_major": 2,
       "version_minor": 0
      },
      "text/plain": [
       "VBox(children=(Image(value=b''), HBox(children=(FloatSlider(value=1.0, description='gamma:', max=2.0, step=0.0…"
      ]
     },
     "metadata": {},
     "output_type": "display_data"
    }
   ],
   "source": [
    "anaglyph = widgets.Image()\n",
    "button = widgets.Button(description=\"Create Anaglyph\")\n",
    "snap = widgets.Button(description=\"Take photo\")\n",
    "shift = widgets.IntSlider(value=0, min=-100, max=100, step=1, description='shift:')\n",
    "gamma = widgets.FloatSlider(value=1.0, min=0.0, max=2.0, step=0.05, description='gamma:')\n",
    "\n",
    "controls = widgets.HBox([gamma, shift, button, snap])\n",
    "display(widgets.VBox([anaglyph, controls]))\n",
    "button.on_click(makeAnaglyph)\n",
    "snap.on_click(snapPhoto)\n",
    "\n",
    "snapPhoto(None)"
   ]
  },
  {
   "cell_type": "code",
   "execution_count": 43,
   "metadata": {},
   "outputs": [],
   "source": [
    "cameraL.stop()\n",
    "cameraR.stop()"
   ]
  },
  {
   "cell_type": "code",
   "execution_count": null,
   "metadata": {},
   "outputs": [],
   "source": []
  }
 ],
 "metadata": {
  "kernelspec": {
   "display_name": "Python 3",
   "language": "python",
   "name": "python3"
  },
  "language_info": {
   "codemirror_mode": {
    "name": "ipython",
    "version": 3
   },
   "file_extension": ".py",
   "mimetype": "text/x-python",
   "name": "python",
   "nbconvert_exporter": "python",
   "pygments_lexer": "ipython3",
   "version": "3.6.9"
  }
 },
 "nbformat": 4,
 "nbformat_minor": 4
}
